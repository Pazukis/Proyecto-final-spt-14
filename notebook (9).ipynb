{
 "cells": [
  {
   "cell_type": "markdown",
   "metadata": {},
   "source": [
    "<b>¡Hola Emmanuel!</b>\n",
    "\n",
    "Mi nombre es Alejandro Abia y tengo el gusto de revisar tu proyecto.\n",
    "\n",
    "A continuación, encontrarás mis comentarios en celdas pintadas de tres colores (verde, amarillo y rojo), a manera de semáforo. Por favor, <b>no las borres ni muevas de posición</b> mientras dure el proceso de revisión.\n",
    "\n",
    "<div class=\"alert alert-block alert-success\">\n",
    "<b>Éxito</b> <a class=\"tocSkip\"></a>\n",
    "En celdas verdes encontrarás comentarios en relación a tus aciertos y fortalezas.\n",
    "</div>\n",
    "<div class=\"alert alert-block alert-warning\">\n",
    "<b>Atención</b> <a class=\"tocSkip\"></a>\n",
    "Utilizaré el color amarillo para llamar tu atención, expresar algo importante o compartirte alguna idea de valor.\n",
    "</div>\n",
    "<div class=\"alert alert-block alert-danger\">\n",
    "<b>A resolver</b> <a class=\"tocSkip\"></a>\n",
    "En rojo emitiré aquellos puntos que podrían impedir que el proyecto se ejecute correctamente. No son errores, sino oportunidades importantes de mejora.\n",
    "</div>\n",
    "<div class=\"alert alert-block alert-info\">\n",
    "<b>Comentario estudiante</b><a class=\"tocSkip\"></a>\n",
    "Si durante la revisión deseas dejarme algún comentario, por favor utiliza celdas azules como esta.\n",
    "</div>\n",
    "Tu proyecto será considerado aprobado cuando las observaciones en rojo hayan sido atendidas.\n",
    "¡Empecemos!\n"
   ]
  },
  {
   "cell_type": "markdown",
   "metadata": {},
   "source": [
    "# Proyecto de pruebas A/B — Guía estructurada\n",
    "\n",
    "## Introducción\n",
    "\n",
    "Este proyecto tiene como objetivo analizar los resultados de una prueba A/B lanzada por una tienda en línea internacional. El experimento fue diseñado para evaluar el impacto de un nuevo sistema de recomendaciones sobre el comportamiento de los usuarios en el embudo de conversión: desde la visualización de productos hasta la compra.\n",
    "\n",
    "La prueba, denominada `recommender_system_test`, comparó dos grupos:\n",
    "\n",
    "- **Grupo A (control):** usuarios con el embudo de pago tradicional.\n",
    "- **Grupo B (experimental):** usuarios expuestos al nuevo sistema de recomendaciones.\n",
    "\n",
    "El experimento se llevó a cabo entre el **7 de diciembre de 2020** y el **1 de enero de 2021**, con una muestra del **15% de los nuevos usuarios** de la región de la UE. El objetivo era lograr al menos un **10% de mejora** en cada una de las siguientes etapas del embudo:\n",
    "\n",
    "- Visualización de productos (`product_page`)\n",
    "- Agregado al carrito (`product_cart`)\n",
    "- Compra (`purchase`)\n",
    "\n",
    "## Datos utilizados\n",
    "\n",
    "Se analizaron cuatro datasets proporcionados por la plataforma:\n",
    "\n",
    "- `final_ab_new_users_upd_us.csv`: información de nuevos usuarios registrados\n",
    "- `final_ab_events_upd_us.csv`: eventos generados por los usuarios durante el experimento\n",
    "- `final_ab_participants_upd_us.csv`: asignación de usuarios a los grupos A y B\n",
    "- `ab_project_marketing_events_us.csv`: calendario de campañas de marketing\n",
    "\n",
    "## Objetivo del estudio\n",
    "Evaluar si el nuevo sistema de recomendaciones mejora la conversión en:\n",
    "\n",
    "* Vistas de producto (product_page)\n",
    "* Agregado al carrito (product_cart)\n",
    "* Compras (purchase)\n",
    "\n",
    "Se espera al menos un 10% de mejora en cada etapa del embudo para el grupo B (nuevo embudo de pago).\n",
    "\n",
    "## Metodología\n",
    "\n",
    "El análisis se dividió en las siguientes etapas:\n",
    "\n",
    "1. **Exploración y limpieza de datos**\n",
    "2. **Análisis exploratorio (EDA)**\n",
    "3. **Cálculo de tasas de conversión por grupo**\n",
    "4. **Visualización del embudo de conversión**\n",
    "5. **Prueba estadística (prueba Z) para evaluar significancia**\n",
    "6. **Conclusiones y recomendaciones**\n",
    "\n",
    "---\n",
    "\n",
    "Este análisis busca responder una pregunta clave:  \n",
    "* ¿El nuevo sistema de recomendaciones mejora significativamente la conversión de los usuarios en el embudo de compra?"
   ]
  },
  {
   "cell_type": "code",
   "execution_count": 1,
   "metadata": {},
   "outputs": [],
   "source": [
    "# importar librerias\n",
    "import pandas as pd\n",
    "from IPython.display import display\n",
    "import matplotlib.pyplot as plt\n",
    "import seaborn as sns\n",
    "from statsmodels.stats.proportion import proportions_ztest"
   ]
  },
  {
   "cell_type": "code",
   "execution_count": 2,
   "metadata": {},
   "outputs": [],
   "source": [
    "# Cargar los datasets\n",
    "events = pd.read_csv('/datasets/final_ab_events_upd_us.csv')\n",
    "new_users = pd.read_csv('/datasets/final_ab_new_users_upd_us.csv')\n",
    "participants = pd.read_csv('/datasets/final_ab_participants_upd_us.csv')\n",
    "marketing = pd.read_csv('/datasets/ab_project_marketing_events_us.csv')"
   ]
  },
  {
   "cell_type": "code",
   "execution_count": 3,
   "metadata": {},
   "outputs": [
    {
     "name": "stdout",
     "output_type": "stream",
     "text": [
      "Eventos:\n"
     ]
    },
    {
     "data": {
      "text/html": [
       "<div>\n",
       "<style scoped>\n",
       "    .dataframe tbody tr th:only-of-type {\n",
       "        vertical-align: middle;\n",
       "    }\n",
       "\n",
       "    .dataframe tbody tr th {\n",
       "        vertical-align: top;\n",
       "    }\n",
       "\n",
       "    .dataframe thead th {\n",
       "        text-align: right;\n",
       "    }\n",
       "</style>\n",
       "<table border=\"1\" class=\"dataframe\">\n",
       "  <thead>\n",
       "    <tr style=\"text-align: right;\">\n",
       "      <th></th>\n",
       "      <th>user_id</th>\n",
       "      <th>event_dt</th>\n",
       "      <th>event_name</th>\n",
       "      <th>details</th>\n",
       "    </tr>\n",
       "  </thead>\n",
       "  <tbody>\n",
       "    <tr>\n",
       "      <th>0</th>\n",
       "      <td>E1BDDCE0DAFA2679</td>\n",
       "      <td>2020-12-07 20:22:03</td>\n",
       "      <td>purchase</td>\n",
       "      <td>99.99</td>\n",
       "    </tr>\n",
       "    <tr>\n",
       "      <th>1</th>\n",
       "      <td>7B6452F081F49504</td>\n",
       "      <td>2020-12-07 09:22:53</td>\n",
       "      <td>purchase</td>\n",
       "      <td>9.99</td>\n",
       "    </tr>\n",
       "    <tr>\n",
       "      <th>2</th>\n",
       "      <td>9CD9F34546DF254C</td>\n",
       "      <td>2020-12-07 12:59:29</td>\n",
       "      <td>purchase</td>\n",
       "      <td>4.99</td>\n",
       "    </tr>\n",
       "    <tr>\n",
       "      <th>3</th>\n",
       "      <td>96F27A054B191457</td>\n",
       "      <td>2020-12-07 04:02:40</td>\n",
       "      <td>purchase</td>\n",
       "      <td>4.99</td>\n",
       "    </tr>\n",
       "    <tr>\n",
       "      <th>4</th>\n",
       "      <td>1FD7660FDF94CA1F</td>\n",
       "      <td>2020-12-07 10:15:09</td>\n",
       "      <td>purchase</td>\n",
       "      <td>4.99</td>\n",
       "    </tr>\n",
       "  </tbody>\n",
       "</table>\n",
       "</div>"
      ],
      "text/plain": [
       "            user_id             event_dt event_name  details\n",
       "0  E1BDDCE0DAFA2679  2020-12-07 20:22:03   purchase    99.99\n",
       "1  7B6452F081F49504  2020-12-07 09:22:53   purchase     9.99\n",
       "2  9CD9F34546DF254C  2020-12-07 12:59:29   purchase     4.99\n",
       "3  96F27A054B191457  2020-12-07 04:02:40   purchase     4.99\n",
       "4  1FD7660FDF94CA1F  2020-12-07 10:15:09   purchase     4.99"
      ]
     },
     "metadata": {},
     "output_type": "display_data"
    },
    {
     "name": "stdout",
     "output_type": "stream",
     "text": [
      "Nuevos usuarios:\n"
     ]
    },
    {
     "data": {
      "text/html": [
       "<div>\n",
       "<style scoped>\n",
       "    .dataframe tbody tr th:only-of-type {\n",
       "        vertical-align: middle;\n",
       "    }\n",
       "\n",
       "    .dataframe tbody tr th {\n",
       "        vertical-align: top;\n",
       "    }\n",
       "\n",
       "    .dataframe thead th {\n",
       "        text-align: right;\n",
       "    }\n",
       "</style>\n",
       "<table border=\"1\" class=\"dataframe\">\n",
       "  <thead>\n",
       "    <tr style=\"text-align: right;\">\n",
       "      <th></th>\n",
       "      <th>user_id</th>\n",
       "      <th>first_date</th>\n",
       "      <th>region</th>\n",
       "      <th>device</th>\n",
       "    </tr>\n",
       "  </thead>\n",
       "  <tbody>\n",
       "    <tr>\n",
       "      <th>0</th>\n",
       "      <td>D72A72121175D8BE</td>\n",
       "      <td>2020-12-07</td>\n",
       "      <td>EU</td>\n",
       "      <td>PC</td>\n",
       "    </tr>\n",
       "    <tr>\n",
       "      <th>1</th>\n",
       "      <td>F1C668619DFE6E65</td>\n",
       "      <td>2020-12-07</td>\n",
       "      <td>N.America</td>\n",
       "      <td>Android</td>\n",
       "    </tr>\n",
       "    <tr>\n",
       "      <th>2</th>\n",
       "      <td>2E1BF1D4C37EA01F</td>\n",
       "      <td>2020-12-07</td>\n",
       "      <td>EU</td>\n",
       "      <td>PC</td>\n",
       "    </tr>\n",
       "    <tr>\n",
       "      <th>3</th>\n",
       "      <td>50734A22C0C63768</td>\n",
       "      <td>2020-12-07</td>\n",
       "      <td>EU</td>\n",
       "      <td>iPhone</td>\n",
       "    </tr>\n",
       "    <tr>\n",
       "      <th>4</th>\n",
       "      <td>E1BDDCE0DAFA2679</td>\n",
       "      <td>2020-12-07</td>\n",
       "      <td>N.America</td>\n",
       "      <td>iPhone</td>\n",
       "    </tr>\n",
       "  </tbody>\n",
       "</table>\n",
       "</div>"
      ],
      "text/plain": [
       "            user_id  first_date     region   device\n",
       "0  D72A72121175D8BE  2020-12-07         EU       PC\n",
       "1  F1C668619DFE6E65  2020-12-07  N.America  Android\n",
       "2  2E1BF1D4C37EA01F  2020-12-07         EU       PC\n",
       "3  50734A22C0C63768  2020-12-07         EU   iPhone\n",
       "4  E1BDDCE0DAFA2679  2020-12-07  N.America   iPhone"
      ]
     },
     "metadata": {},
     "output_type": "display_data"
    },
    {
     "name": "stdout",
     "output_type": "stream",
     "text": [
      "Participantes:\n"
     ]
    },
    {
     "data": {
      "text/html": [
       "<div>\n",
       "<style scoped>\n",
       "    .dataframe tbody tr th:only-of-type {\n",
       "        vertical-align: middle;\n",
       "    }\n",
       "\n",
       "    .dataframe tbody tr th {\n",
       "        vertical-align: top;\n",
       "    }\n",
       "\n",
       "    .dataframe thead th {\n",
       "        text-align: right;\n",
       "    }\n",
       "</style>\n",
       "<table border=\"1\" class=\"dataframe\">\n",
       "  <thead>\n",
       "    <tr style=\"text-align: right;\">\n",
       "      <th></th>\n",
       "      <th>user_id</th>\n",
       "      <th>group</th>\n",
       "      <th>ab_test</th>\n",
       "    </tr>\n",
       "  </thead>\n",
       "  <tbody>\n",
       "    <tr>\n",
       "      <th>0</th>\n",
       "      <td>D1ABA3E2887B6A73</td>\n",
       "      <td>A</td>\n",
       "      <td>recommender_system_test</td>\n",
       "    </tr>\n",
       "    <tr>\n",
       "      <th>1</th>\n",
       "      <td>A7A3664BD6242119</td>\n",
       "      <td>A</td>\n",
       "      <td>recommender_system_test</td>\n",
       "    </tr>\n",
       "    <tr>\n",
       "      <th>2</th>\n",
       "      <td>DABC14FDDFADD29E</td>\n",
       "      <td>A</td>\n",
       "      <td>recommender_system_test</td>\n",
       "    </tr>\n",
       "    <tr>\n",
       "      <th>3</th>\n",
       "      <td>04988C5DF189632E</td>\n",
       "      <td>A</td>\n",
       "      <td>recommender_system_test</td>\n",
       "    </tr>\n",
       "    <tr>\n",
       "      <th>4</th>\n",
       "      <td>4FF2998A348C484F</td>\n",
       "      <td>A</td>\n",
       "      <td>recommender_system_test</td>\n",
       "    </tr>\n",
       "  </tbody>\n",
       "</table>\n",
       "</div>"
      ],
      "text/plain": [
       "            user_id group                  ab_test\n",
       "0  D1ABA3E2887B6A73     A  recommender_system_test\n",
       "1  A7A3664BD6242119     A  recommender_system_test\n",
       "2  DABC14FDDFADD29E     A  recommender_system_test\n",
       "3  04988C5DF189632E     A  recommender_system_test\n",
       "4  4FF2998A348C484F     A  recommender_system_test"
      ]
     },
     "metadata": {},
     "output_type": "display_data"
    },
    {
     "name": "stdout",
     "output_type": "stream",
     "text": [
      "Eventos de marketing:\n"
     ]
    },
    {
     "data": {
      "text/html": [
       "<div>\n",
       "<style scoped>\n",
       "    .dataframe tbody tr th:only-of-type {\n",
       "        vertical-align: middle;\n",
       "    }\n",
       "\n",
       "    .dataframe tbody tr th {\n",
       "        vertical-align: top;\n",
       "    }\n",
       "\n",
       "    .dataframe thead th {\n",
       "        text-align: right;\n",
       "    }\n",
       "</style>\n",
       "<table border=\"1\" class=\"dataframe\">\n",
       "  <thead>\n",
       "    <tr style=\"text-align: right;\">\n",
       "      <th></th>\n",
       "      <th>name</th>\n",
       "      <th>regions</th>\n",
       "      <th>start_dt</th>\n",
       "      <th>finish_dt</th>\n",
       "    </tr>\n",
       "  </thead>\n",
       "  <tbody>\n",
       "    <tr>\n",
       "      <th>0</th>\n",
       "      <td>Christmas&amp;New Year Promo</td>\n",
       "      <td>EU, N.America</td>\n",
       "      <td>2020-12-25</td>\n",
       "      <td>2021-01-03</td>\n",
       "    </tr>\n",
       "    <tr>\n",
       "      <th>1</th>\n",
       "      <td>St. Valentine's Day Giveaway</td>\n",
       "      <td>EU, CIS, APAC, N.America</td>\n",
       "      <td>2020-02-14</td>\n",
       "      <td>2020-02-16</td>\n",
       "    </tr>\n",
       "    <tr>\n",
       "      <th>2</th>\n",
       "      <td>St. Patric's Day Promo</td>\n",
       "      <td>EU, N.America</td>\n",
       "      <td>2020-03-17</td>\n",
       "      <td>2020-03-19</td>\n",
       "    </tr>\n",
       "    <tr>\n",
       "      <th>3</th>\n",
       "      <td>Easter Promo</td>\n",
       "      <td>EU, CIS, APAC, N.America</td>\n",
       "      <td>2020-04-12</td>\n",
       "      <td>2020-04-19</td>\n",
       "    </tr>\n",
       "    <tr>\n",
       "      <th>4</th>\n",
       "      <td>4th of July Promo</td>\n",
       "      <td>N.America</td>\n",
       "      <td>2020-07-04</td>\n",
       "      <td>2020-07-11</td>\n",
       "    </tr>\n",
       "  </tbody>\n",
       "</table>\n",
       "</div>"
      ],
      "text/plain": [
       "                           name                   regions    start_dt  \\\n",
       "0      Christmas&New Year Promo             EU, N.America  2020-12-25   \n",
       "1  St. Valentine's Day Giveaway  EU, CIS, APAC, N.America  2020-02-14   \n",
       "2        St. Patric's Day Promo             EU, N.America  2020-03-17   \n",
       "3                  Easter Promo  EU, CIS, APAC, N.America  2020-04-12   \n",
       "4             4th of July Promo                 N.America  2020-07-04   \n",
       "\n",
       "    finish_dt  \n",
       "0  2021-01-03  \n",
       "1  2020-02-16  \n",
       "2  2020-03-19  \n",
       "3  2020-04-19  \n",
       "4  2020-07-11  "
      ]
     },
     "metadata": {},
     "output_type": "display_data"
    }
   ],
   "source": [
    "print(\"Eventos:\")\n",
    "display(events.head())\n",
    "\n",
    "print(\"Nuevos usuarios:\")\n",
    "display(new_users.head())\n",
    "\n",
    "print(\"Participantes:\")\n",
    "display(participants.head())\n",
    "\n",
    "print(\"Eventos de marketing:\")\n",
    "display(marketing.head())"
   ]
  },
  {
   "cell_type": "markdown",
   "metadata": {},
   "source": [
    "<div class=\"alert alert-block alert-success\">\n",
    "<b>Celda [3]</b> <a class=\"tocSkip\"></a><br>\n",
    "Has utilizado adecuadamente las funciones de pandas para mostrar una vista previa de tus conjuntos de datos. Esto es esencial para obtener una comprensión inicial de los mismos y facilita identificar cualquier problema potencial desde el principio.\n",
    "</div>\n"
   ]
  },
  {
   "cell_type": "code",
   "execution_count": 4,
   "metadata": {},
   "outputs": [
    {
     "name": "stdout",
     "output_type": "stream",
     "text": [
      "Valores nulos por dataset:\n",
      "events: user_id            0\n",
      "event_dt           0\n",
      "event_name         0\n",
      "details       363447\n",
      "dtype: int64\n",
      "new_users: user_id       0\n",
      "first_date    0\n",
      "region        0\n",
      "device        0\n",
      "dtype: int64\n",
      "participants: user_id    0\n",
      "group      0\n",
      "ab_test    0\n",
      "dtype: int64\n",
      "marketing: name         0\n",
      "regions      0\n",
      "start_dt     0\n",
      "finish_dt    0\n",
      "dtype: int64\n",
      "\n",
      "Duplicados por dataset:\n",
      "events: 0\n",
      "new_users: 0\n",
      "participants: 0\n",
      "marketing: 0\n"
     ]
    }
   ],
   "source": [
    "# Convertir columnas de fechas a datetime\n",
    "events['event_dt'] = pd.to_datetime(events['event_dt'])\n",
    "new_users['first_date'] = pd.to_datetime(new_users['first_date'])\n",
    "marketing['start_dt'] = pd.to_datetime(marketing['start_dt'])\n",
    "marketing['finish_dt'] = pd.to_datetime(marketing['finish_dt'])\n",
    "\n",
    "# Verificar valores nulos\n",
    "print(\"Valores nulos por dataset:\")\n",
    "print(\"events:\", events.isnull().sum())\n",
    "print(\"new_users:\", new_users.isnull().sum())\n",
    "print(\"participants:\", participants.isnull().sum())\n",
    "print(\"marketing:\", marketing.isnull().sum())\n",
    "\n",
    "# Verificar duplicados\n",
    "print(\"\\nDuplicados por dataset:\")\n",
    "print(\"events:\", events.duplicated().sum())\n",
    "print(\"new_users:\", new_users.duplicated().sum())\n",
    "print(\"participants:\", participants.duplicated().sum())\n",
    "print(\"marketing:\", marketing.duplicated().sum())"
   ]
  },
  {
   "cell_type": "code",
   "execution_count": 5,
   "metadata": {},
   "outputs": [
    {
     "name": "stdout",
     "output_type": "stream",
     "text": [
      "Usuarios por grupo:\n",
      "A    8214\n",
      "B    6311\n",
      "Name: group, dtype: int64\n"
     ]
    }
   ],
   "source": [
    "# Verificar cuántos usuarios hay en cada grupo\n",
    "group_counts = participants['group'].value_counts()\n",
    "print(\"Usuarios por grupo:\")\n",
    "print(group_counts)"
   ]
  },
  {
   "cell_type": "markdown",
   "metadata": {},
   "source": [
    "<div class=\"alert alert-block alert-success\">\n",
    "<b>Celda [5]</b> <a class=\"tocSkip\"></a><br>\n",
    "La verificación de la distribución de usuarios por grupo es un paso importante para asegurar que los grupos de control y tratamiento están equilibrados. Esto es fundamental para la validez de los resultados del experimento, ya que una distribución desigual podría sesgar los resultados.\n",
    "</div>\n"
   ]
  },
  {
   "cell_type": "code",
   "execution_count": 6,
   "metadata": {},
   "outputs": [
    {
     "name": "stdout",
     "output_type": "stream",
     "text": [
      "Usuarios presentes en más de un grupo: 887\n"
     ]
    }
   ],
   "source": [
    "# Verificar si hay usuarios duplicados en la tabla de participantes\n",
    "duplicated_users = participants['user_id'].duplicated().sum()\n",
    "print(f\"Usuarios presentes en más de un grupo: {duplicated_users}\")"
   ]
  },
  {
   "cell_type": "code",
   "execution_count": 7,
   "metadata": {},
   "outputs": [
    {
     "name": "stdout",
     "output_type": "stream",
     "text": [
      "Usuarios duplicados eliminados: 887\n",
      "Usuarios restantes: 12751\n"
     ]
    }
   ],
   "source": [
    "# Identificar los usuarios duplicados\n",
    "duplicated_ids = participants[participants.duplicated('user_id', keep=False)]['user_id'].unique()\n",
    "\n",
    "# Filtrar el dataset de participantes para excluirlos\n",
    "clean_participants = participants[~participants['user_id'].isin(duplicated_ids)]\n",
    "\n",
    "# Confirmar que ya no hay duplicados\n",
    "print(\"Usuarios duplicados eliminados:\", len(duplicated_ids))\n",
    "print(\"Usuarios restantes:\", clean_participants['user_id'].nunique())"
   ]
  },
  {
   "cell_type": "markdown",
   "metadata": {},
   "source": [
    "<div class=\"alert alert-block alert-warning\">\n",
    "<b>Celda [7]</b> <a class=\"tocSkip\"></a><br>\n",
    "Al eliminar usuarios duplicados, es importante documentar el proceso y justificar por qué es necesario. Además, podrías explorar si estos duplicados comparten algún patrón o característica común que pueda influir en el análisis. Esto te proporcionará una visión más profunda sobre la calidad de los datos y su impacto en el análisis.\n",
    "</div>\n"
   ]
  },
  {
   "cell_type": "code",
   "execution_count": 8,
   "metadata": {},
   "outputs": [],
   "source": [
    "# Unir eventos con participantes limpios\n",
    "events_with_group = events.merge(clean_participants, on='user_id')\n",
    "\n",
    "# Contar eventos por usuario\n",
    "events_per_user = events_with_group.groupby('user_id')['event_name'].count()"
   ]
  },
  {
   "cell_type": "code",
   "execution_count": 9,
   "metadata": {},
   "outputs": [
    {
     "data": {
      "image/png": "[encoded data removed]",
      "text/plain": [
       "<Figure size 1000x500 with 1 Axes>"
      ]
     },
     "metadata": {},
     "output_type": "display_data"
    }
   ],
   "source": [
    "#grafico \n",
    "plt.figure(figsize=(10, 5))\n",
    "sns.histplot(events_per_user, bins=50, kde=True)\n",
    "plt.title('Distribución del número de eventos por usuario')\n",
    "plt.xlabel('Eventos por usuario')\n",
    "plt.ylabel('Frecuencia')\n",
    "plt.show()"
   ]
  },
  {
   "cell_type": "markdown",
   "metadata": {},
   "source": [
    "<div class=\"alert alert-block alert-success\">\n",
    "<b>Celda [9]</b> <a class=\"tocSkip\"></a><br>\n",
    "Has elegido un histograma con KDE para visualizar la distribución de eventos por usuario, lo cual es una excelente forma de entender la densidad de eventos y detectar posibles outliers. Esta visualización facilita la identificación de patrones en el comportamiento de los usuarios.\n",
    "</div>\n"
   ]
  },
  {
   "cell_type": "markdown",
   "metadata": {},
   "source": [
    "#### Interpretación:\n",
    "* La mayoría de los usuarios realizaron entre 1 y 10 eventos, lo cual es típico en plataformas donde muchos usuarios interactúan poco.\n",
    "* Hay una cola larga hacia la derecha, lo que indica que algunos usuarios realizaron muchos más eventos que el promedio. Esto sugiere la presencia de outliers o usuarios altamente activos.\n",
    "* La distribución es asimétrica hacia la derecha, lo cual es común en datos de comportamiento digital (ley de potencias o distribución de Pareto).\n",
    "\n",
    "#### Conclusión:\n",
    "La distribución de eventos por usuario no es uniforme. La mayoría de los usuarios tienen una actividad baja, mientras que unos pocos concentran una gran cantidad de eventos. Esto es importante tenerlo en cuenta al analizar conversiones, ya que los usuarios más activos podrían influir desproporcionadamente en los resultados si no se controla adecuadamente."
   ]
  },
  {
   "cell_type": "code",
   "execution_count": 10,
   "metadata": {},
   "outputs": [
    {
     "data": {
      "image/png": "[encoded data removed]",
      "text/plain": [
       "<Figure size 1200x500 with 1 Axes>"
      ]
     },
     "metadata": {},
     "output_type": "display_data"
    }
   ],
   "source": [
    "# Contar eventos por día\n",
    "events_by_day = events_with_group.groupby(events_with_group['event_dt'].dt.date)['event_name'].count()\n",
    "\n",
    "# Visualizar\n",
    "plt.figure(figsize=(12, 5))\n",
    "events_by_day.plot(kind='bar')\n",
    "plt.title('Número de eventos por día')\n",
    "plt.xlabel('Fecha')\n",
    "plt.ylabel('Cantidad de eventos')\n",
    "plt.xticks(rotation=45)\n",
    "plt.tight_layout()\n",
    "plt.show()"
   ]
  },
  {
   "cell_type": "markdown",
   "metadata": {},
   "source": [
    "<div class=\"alert alert-block alert-success\">\n",
    "<b>Celda [10]</b> <a class=\"tocSkip\"></a><br>\n",
    "El gráfico de barras para visualizar el número de eventos por día es informativo. \n",
    "</div>\n"
   ]
  },
  {
   "cell_type": "markdown",
   "metadata": {},
   "source": [
    "#### Observaciones clave:\n",
    "* El número de eventos aumenta gradualmente desde el inicio de la prueba (7 de diciembre), lo cual es esperable a medida que más usuarios se registran y comienzan a interactuar.\n",
    "* El pico máximo de actividad ocurre el 20 de diciembre, con más de 7,000 eventos. Esto podría deberse a un aumento en el tráfico, una campaña de marketing o comportamiento estacional (cercano a Navidad).\n",
    "* Después del 21 de diciembre (fecha en la que dejaron de aceptar nuevos usuarios), la actividad se mantiene alta unos días más y luego comienza a disminuir, lo cual es coherente con el comportamiento de usuarios activos dentro de su ventana de 14 días.\n",
    "\n",
    "##### Posible anomalía:\n",
    "El 7 de diciembre (inicio del experimento) muestra una cantidad de eventos significativamente menor. Esto puede deberse a que ese día solo se registraron usuarios durante parte del día, o a un retraso en la activación de la prueba.\n",
    "\n",
    "#### Conclusión:\n",
    "La distribución diaria de eventos es consistente con el calendario del experimento. No se observan anomalías graves, pero es importante tener en cuenta el pico del 20 de diciembre y el bajo volumen del 7 de diciembre al interpretar los resultados."
   ]
  },
  {
   "cell_type": "code",
   "execution_count": 11,
   "metadata": {},
   "outputs": [],
   "source": [
    "# Usamos el dataset limpio de participantes\n",
    "events_with_group = events.merge(clean_participants, on='user_id')\n",
    "\n",
    "# Filtrar solo los eventos relevantes del embudo\n",
    "funnel_events = events_with_group[events_with_group['event_name'].isin(['product_page', 'product_cart', 'purchase'])]"
   ]
  },
  {
   "cell_type": "code",
   "execution_count": 12,
   "metadata": {},
   "outputs": [
    {
     "name": "stdout",
     "output_type": "stream",
     "text": [
      "Usuarios únicos por evento:\n"
     ]
    },
    {
     "data": {
      "text/html": [
       "<div>\n",
       "<style scoped>\n",
       "    .dataframe tbody tr th:only-of-type {\n",
       "        vertical-align: middle;\n",
       "    }\n",
       "\n",
       "    .dataframe tbody tr th {\n",
       "        vertical-align: top;\n",
       "    }\n",
       "\n",
       "    .dataframe thead th {\n",
       "        text-align: right;\n",
       "    }\n",
       "</style>\n",
       "<table border=\"1\" class=\"dataframe\">\n",
       "  <thead>\n",
       "    <tr style=\"text-align: right;\">\n",
       "      <th>event_name</th>\n",
       "      <th>product_cart</th>\n",
       "      <th>product_page</th>\n",
       "      <th>purchase</th>\n",
       "    </tr>\n",
       "    <tr>\n",
       "      <th>group</th>\n",
       "      <th></th>\n",
       "      <th></th>\n",
       "      <th></th>\n",
       "    </tr>\n",
       "  </thead>\n",
       "  <tbody>\n",
       "    <tr>\n",
       "      <th>A</th>\n",
       "      <td>2260</td>\n",
       "      <td>4726</td>\n",
       "      <td>2434</td>\n",
       "    </tr>\n",
       "    <tr>\n",
       "      <th>B</th>\n",
       "      <td>1881</td>\n",
       "      <td>3651</td>\n",
       "      <td>1851</td>\n",
       "    </tr>\n",
       "  </tbody>\n",
       "</table>\n",
       "</div>"
      ],
      "text/plain": [
       "event_name  product_cart  product_page  purchase\n",
       "group                                           \n",
       "A                   2260          4726      2434\n",
       "B                   1881          3651      1851"
      ]
     },
     "metadata": {},
     "output_type": "display_data"
    },
    {
     "name": "stdout",
     "output_type": "stream",
     "text": [
      "\n",
      "Tasa de conversión por grupo:\n"
     ]
    },
    {
     "data": {
      "text/html": [
       "<div>\n",
       "<style scoped>\n",
       "    .dataframe tbody tr th:only-of-type {\n",
       "        vertical-align: middle;\n",
       "    }\n",
       "\n",
       "    .dataframe tbody tr th {\n",
       "        vertical-align: top;\n",
       "    }\n",
       "\n",
       "    .dataframe thead th {\n",
       "        text-align: right;\n",
       "    }\n",
       "</style>\n",
       "<table border=\"1\" class=\"dataframe\">\n",
       "  <thead>\n",
       "    <tr style=\"text-align: right;\">\n",
       "      <th>event_name</th>\n",
       "      <th>product_cart</th>\n",
       "      <th>product_page</th>\n",
       "      <th>purchase</th>\n",
       "    </tr>\n",
       "    <tr>\n",
       "      <th>group</th>\n",
       "      <th></th>\n",
       "      <th></th>\n",
       "      <th></th>\n",
       "    </tr>\n",
       "  </thead>\n",
       "  <tbody>\n",
       "    <tr>\n",
       "      <th>A</th>\n",
       "      <td>0.318624</td>\n",
       "      <td>0.666291</td>\n",
       "      <td>0.343155</td>\n",
       "    </tr>\n",
       "    <tr>\n",
       "      <th>B</th>\n",
       "      <td>0.332450</td>\n",
       "      <td>0.645281</td>\n",
       "      <td>0.327147</td>\n",
       "    </tr>\n",
       "  </tbody>\n",
       "</table>\n",
       "</div>"
      ],
      "text/plain": [
       "event_name  product_cart  product_page  purchase\n",
       "group                                           \n",
       "A               0.318624      0.666291  0.343155\n",
       "B               0.332450      0.645281  0.327147"
      ]
     },
     "metadata": {},
     "output_type": "display_data"
    }
   ],
   "source": [
    "# Crear una tabla de usuarios únicos por evento y grupo\n",
    "funnel_counts = funnel_events.groupby(['group', 'event_name'])['user_id'].nunique().unstack()\n",
    "\n",
    "# Calcular el total de usuarios por grupo\n",
    "group_sizes = clean_participants.groupby('group')['user_id'].nunique()\n",
    "\n",
    "# Calcular tasas de conversión por grupo\n",
    "conversion_rates = funnel_counts.div(group_sizes, axis=0)\n",
    "\n",
    "# Mostrar resultados\n",
    "print(\"Usuarios únicos por evento:\")\n",
    "display(funnel_counts)\n",
    "\n",
    "print(\"\\nTasa de conversión por grupo:\")\n",
    "display(conversion_rates)"
   ]
  },
  {
   "cell_type": "markdown",
   "metadata": {},
   "source": [
    "<div class=\"alert alert-block alert-success\">\n",
    "<b>Celda [12]</b> <a class=\"tocSkip\"></a><br>\n",
    "Has realizado un análisis detallado de la tasa de conversión por grupo, lo cual es crucial para entender la efectividad de las diferentes etapas del embudo. Este tipo de análisis proporciona insights valiosos sobre el comportamiento del usuario y ayuda a identificar áreas de mejora en el proceso de conversión.\n",
    "</div>\n"
   ]
  },
  {
   "cell_type": "code",
   "execution_count": 13,
   "metadata": {},
   "outputs": [
    {
     "data": {
      "image/png": "[encoded data removed]",
      "text/plain": [
       "<Figure size 1000x600 with 1 Axes>"
      ]
     },
     "metadata": {},
     "output_type": "display_data"
    }
   ],
   "source": [
    "# Preparar datos para graficar\n",
    "conversion_rates_plot = conversion_rates.T  # Transponer para que los eventos sean el eje X\n",
    "\n",
    "# Graficar\n",
    "conversion_rates_plot.plot(kind='bar', figsize=(10, 6))\n",
    "plt.title('Tasa de conversión por etapa del embudo')\n",
    "plt.ylabel('Tasa de conversión')\n",
    "plt.xlabel('Etapa del embudo')\n",
    "plt.xticks(rotation=0)\n",
    "plt.legend(title='Grupo')\n",
    "plt.grid(axis='y')\n",
    "plt.tight_layout()\n",
    "plt.show()"
   ]
  },
  {
   "cell_type": "markdown",
   "metadata": {},
   "source": [
    "<div class=\"alert alert-block alert-warning\">\n",
    "<b>Celda [13]</b> <a class=\"tocSkip\"></a><br>\n",
    "El gráfico de barras para las tasas de conversión es claro y efectivo. Para mejorar la interpretación, podrías considerar añadir etiquetas de porcentaje directamente sobre las barras. Esto facilitaría la comparación visual entre grupos y permitiría una comprensión más rápida de las diferencias en las tasas de conversión.\n",
    "</div>\n"
   ]
  },
  {
   "cell_type": "markdown",
   "metadata": {},
   "source": [
    "#### Conclusión visual:\n",
    "A simple vista, no parece que el nuevo sistema de recomendaciones (grupo B) haya generado mejoras significativas en el embudo de conversión. Sin embargo, para confirmar esto con rigor, debemos aplicar una prueba estadística."
   ]
  },
  {
   "cell_type": "code",
   "execution_count": 14,
   "metadata": {},
   "outputs": [
    {
     "name": "stdout",
     "output_type": "stream",
     "text": [
      "Evento: product_page\n",
      "Estadístico Z: 2.4829\n",
      "Valor p: 0.0130\n",
      "Significativo\n",
      "------------------------------\n",
      "Evento: product_cart\n",
      "Estadístico Z: -1.6563\n",
      "Valor p: 0.0977\n",
      "No significativo\n",
      "------------------------------\n",
      "Evento: purchase\n",
      "Estadístico Z: 1.9012\n",
      "Valor p: 0.0573\n",
      "No significativo\n",
      "------------------------------\n"
     ]
    }
   ],
   "source": [
    "# Función para aplicar prueba Z\n",
    "def run_z_test(success_a, size_a, success_b, size_b):\n",
    "    count = [success_a, success_b]\n",
    "    nobs = [size_a, size_b]\n",
    "    stat, pval = proportions_ztest(count, nobs)\n",
    "    return stat, pval\n",
    "\n",
    "# Tamaños de grupo\n",
    "n_a = clean_participants[clean_participants['group'] == 'A']['user_id'].nunique()\n",
    "n_b = clean_participants[clean_participants['group'] == 'B']['user_id'].nunique()\n",
    "\n",
    "# Éxitos por evento\n",
    "successes = funnel_counts\n",
    "\n",
    "# Prueba Z para cada evento\n",
    "for event in ['product_page', 'product_cart', 'purchase']:\n",
    "    a = successes.loc['A', event]\n",
    "    b = successes.loc['B', event]\n",
    "    stat, pval = run_z_test(a, n_a, b, n_b)\n",
    "    print(f\"Evento: {event}\")\n",
    "    print(f\"Estadístico Z: {stat:.4f}\")\n",
    "    print(f\"Valor p: {pval:.4f}\")\n",
    "    print(\"Significativo\" if pval < 0.05 else \"No significativo\")\n",
    "    print(\"-\" * 30)"
   ]
  },
  {
   "cell_type": "markdown",
   "metadata": {},
   "source": [
    "<div class=\"alert alert-block alert-warning\">\n",
    "<b>Celda [14]</b> <a class=\"tocSkip\"></a><br>\n",
    "La implementación de la prueba Z es adecuada para comparar proporciones entre grupos. Asegúrate de discutir los supuestos de la prueba y cómo se cumplen en tu contexto. Además, considera realizar un análisis de potencia para asegurar que el tamaño de muestra es suficiente para detectar efectos significativos, lo cual es crucial para la validez de tus conclusiones.\n",
    "</div>\n"
   ]
  },
  {
   "cell_type": "code",
   "execution_count": 15,
   "metadata": {},
   "outputs": [
    {
     "data": {
      "image/png": "[encoded data removed]",
      "text/plain": [
       "<Figure size 1000x500 with 1 Axes>"
      ]
     },
     "metadata": {},
     "output_type": "display_data"
    }
   ],
   "source": [
    "# Datos de ejemplo (ajusta con tus valores reales)\n",
    "events = ['product_page', 'product_cart', 'purchase']\n",
    "z_scores = [2.4829, -1.6563, 1.9012]\n",
    "p_values = [0.0130, 0.0977, 0.0573]\n",
    "significance = ['Sí' if p < 0.05 else 'No' for p in p_values]\n",
    "\n",
    "# Crear gráfico\n",
    "plt.figure(figsize=(10, 5))\n",
    "bars = plt.bar(events, z_scores, color=['green' if s == 'Sí' else 'gray' for s in significance])\n",
    "plt.axhline(0, color='black', linewidth=0.8)\n",
    "plt.title('Estadístico Z por etapa del embudo')\n",
    "plt.ylabel('Estadístico Z')\n",
    "\n",
    "# Anotar valores p y significancia\n",
    "for bar, p, sig in zip(bars, p_values, significance):\n",
    "    height = bar.get_height()\n",
    "    plt.text(bar.get_x() + bar.get_width()/2, height + 0.2,\n",
    "             f'p = {p:.3f}\\nSignificativo: {sig}',\n",
    "             ha='center', va='bottom', fontsize=9)\n",
    "\n",
    "plt.tight_layout()\n",
    "plt.show()"
   ]
  },
  {
   "cell_type": "markdown",
   "metadata": {},
   "source": [
    "<div class=\"alert alert-block alert-success\">\n",
    "<b>Celda [15]</b> <a class=\"tocSkip\"></a><br>\n",
    "El gráfico de barras con los estadísticos Z es una buena manera de visualizar los resultados de las pruebas de hipótesis. \n",
    "</div>\n"
   ]
  },
  {
   "cell_type": "markdown",
   "metadata": {},
   "source": [
    "#### Interpretación:\n",
    "* product_page: La diferencia entre los grupos A y B es estadísticamente significativa, pero no cumple con el criterio de mejora del 10%. De hecho, el grupo B tuvo una conversión ligeramente menor.\n",
    "\n",
    " *product_cart y purchase: Las diferencias no son estadísticamente significativas, por lo tanto, no podemos afirmar que el nuevo sistema haya tenido un efecto real en estas etapas.\n",
    "\n",
    "#### Conclusión final:\n",
    "Aunque hubo una diferencia significativa en la etapa de vistas de producto, no se observó una mejora del 10% en ninguna etapa del embudo, y las otras diferencias no fueron estadísticamente significativas. Por lo tanto, no hay evidencia suficiente para recomendar la implementación del nuevo sistema de recomendaciones."
   ]
  },
  {
   "cell_type": "markdown",
   "metadata": {},
   "source": [
    "## Conclusión final del análisis A/B\n",
    "\n",
    "Después de realizar el análisis exploratorio y aplicar pruebas estadísticas, no se encontraron mejoras sustanciales que justifiquen la implementación del nuevo sistema de recomendaciones.\n",
    "\n",
    "Aunque en la etapa de vistas de producto (`product_page`) se detectó una diferencia estadísticamente significativa entre los grupos, esta no representó una mejora del 10% como se esperaba. De hecho, el grupo experimental mostró una ligera disminución en comparación con el grupo de control.\n",
    "\n",
    "En las etapas de agregado al carrito (`product_cart`) y compras (`purchase`), las diferencias observadas no fueron estadísticamente significativas, lo que sugiere que podrían deberse al azar.\n",
    "\n",
    "**Conclusión:**  \n",
    "No hay evidencia suficiente para respaldar que el nuevo embudo de recomendaciones haya mejorado el comportamiento de los usuarios. Por lo tanto, no se recomienda su implementación en este momento.\n"
   ]
  },
  {
   "cell_type": "code",
   "execution_count": null,
   "metadata": {},
   "outputs": [],
   "source": []
  },
  {
   "cell_type": "markdown",
   "metadata": {},
   "source": [
    "<div class=\"alert alert-block alert-success\">\n",
    "<b>Comentario final</b> <a class=\"tocSkip\"></a><br>\n",
    "    \n",
    "¡Muy buen trabajo, Emmanuel! A lo largo del proyecto mostraste fortalezas muy claras:<br><br>\n",
    "\n",
    "- Excelente manejo de las funciones de pandas para la carga y visualización inicial de los datos.\n",
    "- Realizaste un análisis exhaustivo de valores nulos y duplicados, asegurando la calidad de los datos.\n",
    "- Verificaste la distribución de usuarios por grupo, lo cual es crucial para la validez del experimento.\n",
    "- Implementaste correctamente la limpieza de datos al eliminar usuarios duplicados.\n",
    "- Utilizaste visualizaciones efectivas para mostrar la distribución de eventos y conversiones.\n",
    "- Realizaste un análisis detallado de las tasas de conversión por grupo y etapa del embudo.\n",
    "- Implementaste adecuadamente la prueba Z para comparar proporciones entre grupos.\n",
    "- Mostraste habilidad en la interpretación de resultados estadísticos en el contexto del proyecto.\n",
    "- Tu enfoque en la validación de datos y limpieza es destacable.\n",
    "- La estructura del código es clara y bien organizada, facilitando su comprensión.\n",
    "  \n",
    "¡Felicidades!\n",
    "</div>\n"
   ]
  },
  {
   "cell_type": "code",
   "execution_count": null,
   "metadata": {},
   "outputs": [],
   "source": []
  }
 ],
 "metadata": {
  "kernelspec": {
   "display_name": "Python 3 (ipykernel)",
   "language": "python",
   "name": "python3"
  },
  "language_info": {
   "codemirror_mode": {
    "name": "ipython",
    "version": 3
   },
   "file_extension": ".py",
   "mimetype": "text/x-python",
   "name": "python",
   "nbconvert_exporter": "python",
   "pygments_lexer": "ipython3",
   "version": "3.9.23"
  }
 },
 "nbformat": 4,
 "nbformat_minor": 4
}
